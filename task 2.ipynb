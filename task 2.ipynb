{
 "cells": [
  {
   "cell_type": "code",
   "execution_count": 2,
   "metadata": {},
   "outputs": [],
   "source": [
    "import pandas as pd\n",
    "import numpy as np\n",
    "\n",
    "# Load dataset\n",
    "df = pd.read_csv(\"googleplaystore.csv\")  # Ensure this file exists in the correct path\n"
   ]
  },
  {
   "cell_type": "code",
   "execution_count": 1,
   "metadata": {},
   "outputs": [
    {
     "name": "stdout",
     "output_type": "stream",
     "text": [
      "⏳ This graph is only available between 3 PM - 5 PM IST.\n"
     ]
    }
   ],
   "source": [
    "import pandas as pd\n",
    "import numpy as np\n",
    "import datetime as dt\n",
    "import matplotlib.pyplot as plt\n",
    "import seaborn as sns\n",
    "\n",
    "# Load dataset\n",
    "df = pd.read_csv(\"googleplaystore.csv\")  \n",
    "\n",
    "# Ensure 'Size' is a string before replacing 'M'\n",
    "df['Size'] = df['Size'].astype(str).str.replace('M', '', regex=True)\n",
    "\n",
    "# Convert 'Size' to numeric (coerce errors to NaN)\n",
    "df['Size'] = pd.to_numeric(df['Size'], errors='coerce')\n",
    "\n",
    "# Convert 'Last Updated' to datetime\n",
    "df['Last Updated'] = pd.to_datetime(df['Last Updated'], errors='coerce')\n",
    "\n",
    "# Convert 'Reviews' to numeric\n",
    "df['Reviews'] = pd.to_numeric(df['Reviews'], errors='coerce')\n",
    "\n",
    "# Convert 'Installs' to numeric by removing non-numeric characters\n",
    "df['Installs'] = df['Installs'].astype(str).str.replace(r'[+,]', '', regex=True)\n",
    "df['Installs'] = pd.to_numeric(df['Installs'], errors='coerce')\n",
    "\n",
    "# Convert 'Rating' to numeric\n",
    "df['Rating'] = pd.to_numeric(df['Rating'], errors='coerce')\n",
    "\n",
    "# Filter out categories with an average rating below 4.0\n",
    "filtered_df = df.groupby('Category').filter(lambda x: x['Rating'].mean() >= 4.0)\n",
    "\n",
    "# Filter out categories where 'Size' is below 10M\n",
    "filtered_df = filtered_df[filtered_df['Size'] >= 10]\n",
    "\n",
    "# Filter only apps last updated in January (Year is ignored)\n",
    "filtered_df = filtered_df[filtered_df['Last Updated'].dt.month == 1]\n",
    "\n",
    "# Get the top 10 categories by number of installs\n",
    "top_categories = filtered_df.groupby('Category')['Installs'].sum().nlargest(10).index\n",
    "filtered_df = filtered_df[filtered_df['Category'].isin(top_categories)]\n",
    "\n",
    "# Aggregate data for visualization\n",
    "category_data = filtered_df.groupby('Category').agg({'Rating': 'mean', 'Reviews': 'sum'}).reset_index()\n",
    "\n",
    "# Time-based restriction: Only show the graph between 3 PM - 5 PM IST\n",
    "current_time = dt.datetime.now().time()\n",
    "start_time = dt.time(15, 0)  # 3:00 PM IST\n",
    "end_time = dt.time(17, 0)    # 5:00 PM IST\n",
    "\n",
    "if start_time <= current_time <= end_time:\n",
    "    # Plot grouped bar chart\n",
    "    fig, ax = plt.subplots(figsize=(12, 6))\n",
    "\n",
    "    # Bar chart with ratings\n",
    "    sns.barplot(data=category_data, x=\"Category\", y=\"Rating\", color=\"blue\", label=\"Average Rating\", ax=ax)\n",
    "\n",
    "    # Create a secondary y-axis for review count\n",
    "    ax2 = ax.twinx()\n",
    "    sns.barplot(data=category_data, x=\"Category\", y=\"Reviews\", color=\"red\", alpha=0.6, label=\"Total Reviews\", ax=ax2)\n",
    "\n",
    "    # Labels and titles\n",
    "    ax.set_ylabel(\"Average Rating\")\n",
    "    ax2.set_ylabel(\"Total Reviews\")\n",
    "    ax.set_xlabel(\"App Category\")\n",
    "    ax.set_title(\"Average Rating & Total Review Count by Category\")\n",
    "    \n",
    "    # Rotate x-axis labels for readability\n",
    "    ax.set_xticklabels(ax.get_xticklabels(), rotation=45, ha=\"right\")\n",
    "\n",
    "    # Show plot\n",
    "    plt.legend()\n",
    "    plt.show()\n",
    "else:\n",
    "    print(\"⏳ This graph is only available between 3 PM - 5 PM IST.\")\n"
   ]
  },
  {
   "cell_type": "code",
   "execution_count": 3,
   "metadata": {},
   "outputs": [
    {
     "name": "stdout",
     "output_type": "stream",
     "text": [
      "                                                 App        Category  Rating  \\\n",
      "0     Photo Editor & Candy Camera & Grid & ScrapBook  ART_AND_DESIGN     4.1   \n",
      "1                                Coloring book moana  ART_AND_DESIGN     3.9   \n",
      "2  U Launcher Lite – FREE Live Cool Themes, Hide ...  ART_AND_DESIGN     4.7   \n",
      "3                              Sketch - Draw & Paint  ART_AND_DESIGN     4.5   \n",
      "4              Pixel Draw - Number Art Coloring Book  ART_AND_DESIGN     4.3   \n",
      "\n",
      "  Reviews  Size     Installs  Type Price Content Rating  \\\n",
      "0     159   19M      10,000+  Free     0       Everyone   \n",
      "1     967   14M     500,000+  Free     0       Everyone   \n",
      "2   87510  8.7M   5,000,000+  Free     0       Everyone   \n",
      "3  215644   25M  50,000,000+  Free     0           Teen   \n",
      "4     967  2.8M     100,000+  Free     0       Everyone   \n",
      "\n",
      "                      Genres      Last Updated         Current Ver  \\\n",
      "0               Art & Design   January 7, 2018               1.0.0   \n",
      "1  Art & Design;Pretend Play  January 15, 2018               2.0.0   \n",
      "2               Art & Design    August 1, 2018               1.2.4   \n",
      "3               Art & Design      June 8, 2018  Varies with device   \n",
      "4    Art & Design;Creativity     June 20, 2018                 1.1   \n",
      "\n",
      "    Android Ver  \n",
      "0  4.0.3 and up  \n",
      "1  4.0.3 and up  \n",
      "2  4.0.3 and up  \n",
      "3    4.2 and up  \n",
      "4    4.4 and up  \n"
     ]
    }
   ],
   "source": [
    "print(df.head())  # Show first 5 rows\n"
   ]
  },
  {
   "cell_type": "code",
   "execution_count": 4,
   "metadata": {},
   "outputs": [],
   "source": [
    "if \"Size\" in df.columns:\n",
    "    df['Size'] = df['Size'].astype(str).str.replace('M', '', regex=True)\n",
    "    df['Size'] = pd.to_numeric(df['Size'], errors='coerce')\n",
    "else:\n",
    "    print(\"Column 'Size' not found in the dataset.\")\n"
   ]
  }
 ],
 "metadata": {
  "kernelspec": {
   "display_name": "Python 3",
   "language": "python",
   "name": "python3"
  },
  "language_info": {
   "codemirror_mode": {
    "name": "ipython",
    "version": 3
   },
   "file_extension": ".py",
   "mimetype": "text/x-python",
   "name": "python",
   "nbconvert_exporter": "python",
   "pygments_lexer": "ipython3",
   "version": "3.13.1"
  }
 },
 "nbformat": 4,
 "nbformat_minor": 2
}
